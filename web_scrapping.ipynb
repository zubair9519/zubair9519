{
  "cells": [
    {
      "cell_type": "markdown",
      "metadata": {
        "id": "view-in-github",
        "colab_type": "text"
      },
      "source": [
        "<a href=\"https://colab.research.google.com/github/zubair9519/zubair9519/blob/main/web_scrapping.ipynb\" target=\"_parent\"><img src=\"https://colab.research.google.com/assets/colab-badge.svg\" alt=\"Open In Colab\"/></a>"
      ]
    },
    {
      "cell_type": "code",
      "execution_count": 13,
      "metadata": {
        "colab": {
          "base_uri": "https://localhost:8080/"
        },
        "id": "-gE-Ez1qtyIA",
        "outputId": "cc780029-7769-4359-910a-e3bee8887ee3"
      },
      "outputs": [
        {
          "output_type": "stream",
          "name": "stdout",
          "text": [
            "Requirement already satisfied: pyppeteer in /usr/local/lib/python3.10/dist-packages (2.0.0)\n",
            "Requirement already satisfied: nest_asyncio in /usr/local/lib/python3.10/dist-packages (1.6.0)\n",
            "Requirement already satisfied: appdirs<2.0.0,>=1.4.3 in /usr/local/lib/python3.10/dist-packages (from pyppeteer) (1.4.4)\n",
            "Requirement already satisfied: certifi>=2023 in /usr/local/lib/python3.10/dist-packages (from pyppeteer) (2024.7.4)\n",
            "Requirement already satisfied: importlib-metadata>=1.4 in /usr/local/lib/python3.10/dist-packages (from pyppeteer) (8.2.0)\n",
            "Requirement already satisfied: pyee<12.0.0,>=11.0.0 in /usr/local/lib/python3.10/dist-packages (from pyppeteer) (11.1.0)\n",
            "Requirement already satisfied: tqdm<5.0.0,>=4.42.1 in /usr/local/lib/python3.10/dist-packages (from pyppeteer) (4.66.5)\n",
            "Requirement already satisfied: urllib3<2.0.0,>=1.25.8 in /usr/local/lib/python3.10/dist-packages (from pyppeteer) (1.26.19)\n",
            "Requirement already satisfied: websockets<11.0,>=10.0 in /usr/local/lib/python3.10/dist-packages (from pyppeteer) (10.4)\n",
            "Requirement already satisfied: zipp>=0.5 in /usr/local/lib/python3.10/dist-packages (from importlib-metadata>=1.4->pyppeteer) (3.19.2)\n",
            "Requirement already satisfied: typing-extensions in /usr/local/lib/python3.10/dist-packages (from pyee<12.0.0,>=11.0.0->pyppeteer) (4.12.2)\n",
            "Each year, the Delivery Body provides potential Capacity Market participants with details of the key Capacity Market implementation activities and milestones through this Operational Plan. Following the successful implementation of the Capacity Market since 2014, the Operational Plan sets out the activities and milestones required to operate the Capacity Market in 2024/25. The scope of this plan is to identify the key dates.  \n",
            "\n",
            "Agreement Management milestones are not covered in detail in this document. However, slide 12 signposts how to find support in this area.   \n",
            "\n",
            "The timeline for operation of the 2024/25 Capacity Market is based on the Capacity Market Regulations and Rules and covers the T-1 and T-4 Auctions.   \n",
            "\n",
            "This plan brings together Governmental milestones and Delivery Partner milestones and is intended to provide a high-level overview of the steps involved in the operation of the Capacity Market, such that industry participants have the clarity they require to plan and manage their own operational activities.   \n",
            "\n",
            "The operational plan is indicative and may be subject to change, it is a live document that will be updated if dates change because of a change in regulation or other reasons. This plan is a summary and does not replace or replicate the detailed operational plans that Government, Delivery Partners and individual industry participants may need to produce to manage their respective activities. \n",
            "Prequalification 2024Operational Plan 2024 V3.0 Operational Plan 2024 V2.0 [superseded]Operational Plan 2024 V1.0  [superseded]Prequalification 2023Operational Plan 2023 V2.1  \n",
            "Delivery Body Contact Details \n",
            "\n",
            "If you have any questions or need further support, please reach out to the Prequalification and Disputes Team by calling 01926 655300 and selecting option 1. Please note telephone lines are open from 9am to 5pm Monday to Thursday and 9am to 4pm on Fridays. \n",
            "\n",
            "Alternatively, you can email the Prequalification team at box.EMR.Prequal@nationalgrideso.com. \n"
          ]
        }
      ],
      "source": [
        "# Step 1: Install required packages\n",
        "!pip install pyppeteer nest_asyncio\n",
        "\n",
        "# Step 2: Import necessary modules\n",
        "import asyncio\n",
        "from pyppeteer import launch\n",
        "import nest_asyncio\n",
        "\n",
        "# Apply the nest_asyncio patch to allow nested event loops in Google Colab\n",
        "nest_asyncio.apply()\n",
        "\n",
        "async def scraper():\n",
        "    # Launch the browser with necessary arguments\n",
        "    browser = await launch(headless=True, args=['--no-sandbox', '--disable-gpu'], executablePath='/root/.local/share/pyppeteer/local-chromium/1181205/chrome-linux/chrome')\n",
        "    page = await browser.newPage()\n",
        "\n",
        "    # Set the viewport of the page\n",
        "    await page.setViewport({\"width\": 1280, \"height\": 720})\n",
        "\n",
        "    # Visit the target website\n",
        "    await page.goto(\"https://emrdeliverybody.nationalgrideso.com/IG/s/article/Capacity-Market-Operational-Plan\", timeout=60000)\n",
        "\n",
        "    # Wait for the page content to load\n",
        "    await page.waitForSelector(\"div.slds-rich-text-editor__output\")\n",
        "\n",
        "    # Extract the main content\n",
        "    content_element = await page.querySelector(\"div.slds-rich-text-editor__output\")\n",
        "    content_text = await content_element.getProperty(\"textContent\")\n",
        "\n",
        "    # Print the extracted content\n",
        "    print(await content_text.jsonValue())\n",
        "\n",
        "    # Close the browser\n",
        "    await browser.close()\n",
        "\n",
        "# Run the scraper function using asyncio\n",
        "await scraper()\n"
      ]
    },
    {
      "cell_type": "code",
      "execution_count": 14,
      "metadata": {
        "colab": {
          "base_uri": "https://localhost:8080/"
        },
        "id": "C4HZx7Gndbrh",
        "outputId": "3ad580f5-282e-4bad-dced-feec3d1b8555"
      },
      "outputs": [
        {
          "output_type": "stream",
          "name": "stdout",
          "text": [
            "No changes detected.\n"
          ]
        }
      ],
      "source": [
        "import asyncio\n",
        "from pyppeteer import launch\n",
        "import nest_asyncio\n",
        "import hashlib\n",
        "\n",
        "# Apply the nest_asyncio patch to allow nested event loops in Google Colab\n",
        "nest_asyncio.apply()\n",
        "\n",
        "async def fetch_page_content():\n",
        "    # Launch the browser with necessary arguments\n",
        "    browser = await launch(headless=True, args=['--no-sandbox', '--disable-gpu'])\n",
        "    page = await browser.newPage()\n",
        "\n",
        "    # Set the viewport of the page\n",
        "    await page.setViewport({\"width\": 1280, \"height\": 720})\n",
        "\n",
        "    # Visit the target website\n",
        "    await page.goto(\"https://emrdeliverybody.nationalgrideso.com/IG/s/article/Capacity-Market-Operational-Plan\", timeout=60000)\n",
        "\n",
        "    # Wait for the page content to load\n",
        "    await page.waitForSelector(\"div.slds-rich-text-editor__output\")\n",
        "\n",
        "    # Extract the main content\n",
        "    content_element = await page.querySelector(\"div.slds-rich-text-editor__output\")\n",
        "    content_text = await content_element.getProperty(\"textContent\")\n",
        "\n",
        "    # Get the text content as a string\n",
        "    content = await content_text.jsonValue()\n",
        "\n",
        "    # Close the browser\n",
        "    await browser.close()\n",
        "\n",
        "    return content\n",
        "\n",
        "def save_content(content, file_path='page_content.txt'):\n",
        "    # Save the content to a file\n",
        "    with open(file_path, 'w') as file:\n",
        "        file.write(content)\n",
        "\n",
        "def load_saved_content(file_path='page_content.txt'):\n",
        "    # Load the content from a file\n",
        "    try:\n",
        "        with open(file_path, 'r') as file:\n",
        "            return file.read()\n",
        "    except FileNotFoundError:\n",
        "        return None\n",
        "\n",
        "def has_content_changed(new_content, old_content):\n",
        "    # Compare the new content with the old content\n",
        "    return hashlib.md5(new_content.encode('utf-8')).hexdigest() != hashlib.md5(old_content.encode('utf-8')).hexdigest()\n",
        "\n",
        "async def check_for_changes():\n",
        "    # Fetch the current content of the page\n",
        "    current_content = await fetch_page_content()\n",
        "\n",
        "    # Load the previously saved content\n",
        "    saved_content = load_saved_content()\n",
        "\n",
        "    # Check if the content has changed\n",
        "    if saved_content is None:\n",
        "        print(\"No saved content found, saving current content.\")\n",
        "        save_content(current_content)\n",
        "    elif has_content_changed(current_content, saved_content):\n",
        "        print(\"Content has changed!\")\n",
        "        save_content(current_content)  # Update the saved content\n",
        "        # You can add more actions here, like sending an email or logging the change\n",
        "    else:\n",
        "        print(\"No changes detected.\")\n",
        "\n",
        "# Run the change detection function\n",
        "await check_for_changes()\n"
      ]
    }
  ],
  "metadata": {
    "colab": {
      "name": "Welcome to Colaboratory",
      "toc_visible": true,
      "provenance": [],
      "include_colab_link": true
    },
    "kernelspec": {
      "display_name": "Python 3",
      "name": "python3"
    }
  },
  "nbformat": 4,
  "nbformat_minor": 0
}